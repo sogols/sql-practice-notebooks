{
 "cells": [
  {
   "cell_type": "markdown",
   "metadata": {},
   "source": [
    "# SQL BASICS"
   ]
  },
  {
   "cell_type": "code",
   "execution_count": 1,
   "metadata": {},
   "outputs": [],
   "source": [
    "%load_ext sql\n",
    "%sql sqlite:///students.db"
   ]
  },
  {
   "cell_type": "markdown",
   "metadata": {},
   "source": [
    "## Creating Tables and Inserting Data"
   ]
  },
  {
   "cell_type": "markdown",
   "metadata": {},
   "source": [
    "#### DROP, CREATE, INSERT INTO, UPDATE AND SET, DELETE FROM"
   ]
  },
  {
   "cell_type": "code",
   "execution_count": 10,
   "metadata": {},
   "outputs": [
    {
     "name": "stdout",
     "output_type": "stream",
     "text": [
      " * sqlite:///students.db\n",
      "Done.\n",
      "Done.\n"
     ]
    },
    {
     "data": {
      "text/plain": [
       "[]"
      ]
     },
     "execution_count": 10,
     "metadata": {},
     "output_type": "execute_result"
    }
   ],
   "source": [
    "%%sql\n",
    "\n",
    "DROP TABLE IF EXISTS students;\n",
    "\n",
    "CREATE TABLE students (\n",
    "id INTEGER PRIMARY KEY,\n",
    "name TEXT,\n",
    "age INT,\n",
    "grade REAL\n",
    ")"
   ]
  },
  {
   "cell_type": "code",
   "execution_count": 11,
   "metadata": {},
   "outputs": [
    {
     "name": "stdout",
     "output_type": "stream",
     "text": [
      " * sqlite:///students.db\n",
      "8 rows affected.\n"
     ]
    },
    {
     "data": {
      "text/plain": [
       "[]"
      ]
     },
     "execution_count": 11,
     "metadata": {},
     "output_type": "execute_result"
    }
   ],
   "source": [
    "%%sql\n",
    "\n",
    "INSERT INTO students (name, age, grade) VALUES\n",
    "('Ali', 17, 18.5),\n",
    "('Sara', 18, 19.2),\n",
    "('Nima', 16, 17.4),\n",
    "('Mahsa', 19, 13.0),\n",
    "('Mohammad', 18, 15.5),\n",
    "('Elham', 17, 19.7),\n",
    "('Behzad', 20, 14.0),\n",
    "('Tara', 18, 20.0)"
   ]
  },
  {
   "cell_type": "code",
   "execution_count": null,
   "metadata": {},
   "outputs": [],
   "source": [
    "%%sql\n",
    "UPDATE students SET grade = 19.0 WHERE name = 'Ali';"
   ]
  },
  {
   "cell_type": "code",
   "execution_count": null,
   "metadata": {},
   "outputs": [],
   "source": [
    "%sql\n",
    "DELETE FROM students WHERE age < 16;"
   ]
  },
  {
   "cell_type": "markdown",
   "metadata": {},
   "source": [
    "## Querying Data"
   ]
  },
  {
   "cell_type": "markdown",
   "metadata": {},
   "source": [
    "#### SELECT, FROM, WHERE, ORDER BY, GROUP BY, HAVING, +(COUNT, AVG, MAX, MIN)"
   ]
  },
  {
   "cell_type": "code",
   "execution_count": 12,
   "metadata": {},
   "outputs": [
    {
     "name": "stdout",
     "output_type": "stream",
     "text": [
      " * sqlite:///students.db\n",
      "Done.\n"
     ]
    },
    {
     "data": {
      "text/html": [
       "<table>\n",
       "    <tr>\n",
       "        <th>id</th>\n",
       "        <th>name</th>\n",
       "        <th>age</th>\n",
       "        <th>grade</th>\n",
       "    </tr>\n",
       "    <tr>\n",
       "        <td>1</td>\n",
       "        <td>Ali</td>\n",
       "        <td>17</td>\n",
       "        <td>18.5</td>\n",
       "    </tr>\n",
       "    <tr>\n",
       "        <td>2</td>\n",
       "        <td>Sara</td>\n",
       "        <td>18</td>\n",
       "        <td>19.2</td>\n",
       "    </tr>\n",
       "    <tr>\n",
       "        <td>3</td>\n",
       "        <td>Nima</td>\n",
       "        <td>16</td>\n",
       "        <td>17.4</td>\n",
       "    </tr>\n",
       "    <tr>\n",
       "        <td>4</td>\n",
       "        <td>Mahsa</td>\n",
       "        <td>19</td>\n",
       "        <td>13.0</td>\n",
       "    </tr>\n",
       "    <tr>\n",
       "        <td>5</td>\n",
       "        <td>Mohammad</td>\n",
       "        <td>18</td>\n",
       "        <td>15.5</td>\n",
       "    </tr>\n",
       "    <tr>\n",
       "        <td>6</td>\n",
       "        <td>Elham</td>\n",
       "        <td>17</td>\n",
       "        <td>19.7</td>\n",
       "    </tr>\n",
       "    <tr>\n",
       "        <td>7</td>\n",
       "        <td>Behzad</td>\n",
       "        <td>20</td>\n",
       "        <td>14.0</td>\n",
       "    </tr>\n",
       "    <tr>\n",
       "        <td>8</td>\n",
       "        <td>Tara</td>\n",
       "        <td>18</td>\n",
       "        <td>20.0</td>\n",
       "    </tr>\n",
       "</table>"
      ],
      "text/plain": [
       "[(1, 'Ali', 17, 18.5),\n",
       " (2, 'Sara', 18, 19.2),\n",
       " (3, 'Nima', 16, 17.4),\n",
       " (4, 'Mahsa', 19, 13.0),\n",
       " (5, 'Mohammad', 18, 15.5),\n",
       " (6, 'Elham', 17, 19.7),\n",
       " (7, 'Behzad', 20, 14.0),\n",
       " (8, 'Tara', 18, 20.0)]"
      ]
     },
     "execution_count": 12,
     "metadata": {},
     "output_type": "execute_result"
    }
   ],
   "source": [
    "%%sql\n",
    "SELECT *\n",
    "FROM students"
   ]
  },
  {
   "cell_type": "code",
   "execution_count": 13,
   "metadata": {},
   "outputs": [
    {
     "name": "stdout",
     "output_type": "stream",
     "text": [
      " * sqlite:///students.db\n",
      "Done.\n"
     ]
    },
    {
     "data": {
      "text/html": [
       "<table>\n",
       "    <tr>\n",
       "        <th>name</th>\n",
       "        <th>grade</th>\n",
       "    </tr>\n",
       "    <tr>\n",
       "        <td>Tara</td>\n",
       "        <td>20.0</td>\n",
       "    </tr>\n",
       "    <tr>\n",
       "        <td>Elham</td>\n",
       "        <td>19.7</td>\n",
       "    </tr>\n",
       "    <tr>\n",
       "        <td>Sara</td>\n",
       "        <td>19.2</td>\n",
       "    </tr>\n",
       "    <tr>\n",
       "        <td>Ali</td>\n",
       "        <td>18.5</td>\n",
       "    </tr>\n",
       "    <tr>\n",
       "        <td>Nima</td>\n",
       "        <td>17.4</td>\n",
       "    </tr>\n",
       "</table>"
      ],
      "text/plain": [
       "[('Tara', 20.0),\n",
       " ('Elham', 19.7),\n",
       " ('Sara', 19.2),\n",
       " ('Ali', 18.5),\n",
       " ('Nima', 17.4)]"
      ]
     },
     "execution_count": 13,
     "metadata": {},
     "output_type": "execute_result"
    }
   ],
   "source": [
    "%%sql\n",
    "\n",
    "SELECT name, grade\n",
    "FROM students\n",
    "WHERE grade>17 and age<19\n",
    "ORDER BY grade desc"
   ]
  },
  {
   "cell_type": "code",
   "execution_count": 25,
   "metadata": {},
   "outputs": [
    {
     "name": "stdout",
     "output_type": "stream",
     "text": [
      " * sqlite:///students.db\n",
      "Done.\n"
     ]
    },
    {
     "data": {
      "text/html": [
       "<table>\n",
       "    <tr>\n",
       "        <th>age</th>\n",
       "        <th>average_grade</th>\n",
       "    </tr>\n",
       "    <tr>\n",
       "        <td>17</td>\n",
       "        <td>19.1</td>\n",
       "    </tr>\n",
       "    <tr>\n",
       "        <td>18</td>\n",
       "        <td>18.233333333333334</td>\n",
       "    </tr>\n",
       "    <tr>\n",
       "        <td>16</td>\n",
       "        <td>17.4</td>\n",
       "    </tr>\n",
       "    <tr>\n",
       "        <td>20</td>\n",
       "        <td>14.0</td>\n",
       "    </tr>\n",
       "    <tr>\n",
       "        <td>19</td>\n",
       "        <td>13.0</td>\n",
       "    </tr>\n",
       "</table>"
      ],
      "text/plain": [
       "[(17, 19.1), (18, 18.233333333333334), (16, 17.4), (20, 14.0), (19, 13.0)]"
      ]
     },
     "execution_count": 25,
     "metadata": {},
     "output_type": "execute_result"
    }
   ],
   "source": [
    "%%sql\n",
    "\n",
    "SELECT age, AVG(grade) as average_grade\n",
    "FROM students\n",
    "GROUP BY age\n",
    "ORDER BY average_grade desc"
   ]
  },
  {
   "cell_type": "code",
   "execution_count": 26,
   "metadata": {},
   "outputs": [
    {
     "name": "stdout",
     "output_type": "stream",
     "text": [
      " * sqlite:///students.db\n",
      "Done.\n"
     ]
    },
    {
     "data": {
      "text/html": [
       "<table>\n",
       "    <tr>\n",
       "        <th>age</th>\n",
       "        <th>average_grade</th>\n",
       "    </tr>\n",
       "    <tr>\n",
       "        <td>17</td>\n",
       "        <td>19.1</td>\n",
       "    </tr>\n",
       "    <tr>\n",
       "        <td>18</td>\n",
       "        <td>18.233333333333334</td>\n",
       "    </tr>\n",
       "    <tr>\n",
       "        <td>16</td>\n",
       "        <td>17.4</td>\n",
       "    </tr>\n",
       "</table>"
      ],
      "text/plain": [
       "[(17, 19.1), (18, 18.233333333333334), (16, 17.4)]"
      ]
     },
     "execution_count": 26,
     "metadata": {},
     "output_type": "execute_result"
    }
   ],
   "source": [
    "%%sql\n",
    "\n",
    "SELECT age, AVG(grade) as average_grade\n",
    "FROM students\n",
    "GROUP BY age\n",
    "HAVING average_grade > 15\n",
    "ORDER BY average_grade desc"
   ]
  },
  {
   "cell_type": "code",
   "execution_count": 29,
   "metadata": {},
   "outputs": [
    {
     "name": "stdout",
     "output_type": "stream",
     "text": [
      " * sqlite:///students.db\n",
      "Done.\n"
     ]
    },
    {
     "data": {
      "text/html": [
       "<table>\n",
       "    <tr>\n",
       "        <th>name</th>\n",
       "        <th>age</th>\n",
       "        <th>max_grade_in_age</th>\n",
       "    </tr>\n",
       "    <tr>\n",
       "        <td>Elham</td>\n",
       "        <td>17</td>\n",
       "        <td>19.7</td>\n",
       "    </tr>\n",
       "    <tr>\n",
       "        <td>Tara</td>\n",
       "        <td>18</td>\n",
       "        <td>20.0</td>\n",
       "    </tr>\n",
       "</table>"
      ],
      "text/plain": [
       "[('Elham', 17, 19.7), ('Tara', 18, 20.0)]"
      ]
     },
     "execution_count": 29,
     "metadata": {},
     "output_type": "execute_result"
    }
   ],
   "source": [
    "%%sql\n",
    "\n",
    "SELECT name, age, MAX(grade) as max_grade_in_age\n",
    "FROM students\n",
    "GROUP BY age\n",
    "HAVING COUNT(age)>=2"
   ]
  },
  {
   "cell_type": "code",
   "execution_count": 30,
   "metadata": {},
   "outputs": [
    {
     "name": "stdout",
     "output_type": "stream",
     "text": [
      " * sqlite:///students.db\n",
      "Done.\n"
     ]
    },
    {
     "data": {
      "text/html": [
       "<table>\n",
       "    <tr>\n",
       "        <th>age</th>\n",
       "        <th>count_age</th>\n",
       "    </tr>\n",
       "    <tr>\n",
       "        <td>17</td>\n",
       "        <td>8</td>\n",
       "    </tr>\n",
       "</table>"
      ],
      "text/plain": [
       "[(17, 8)]"
      ]
     },
     "execution_count": 30,
     "metadata": {},
     "output_type": "execute_result"
    }
   ],
   "source": [
    "%%sql\n",
    "\n",
    "SELECT age, COUNT(age) as count_age\n",
    "FROM students"
   ]
  },
  {
   "cell_type": "markdown",
   "metadata": {},
   "source": [
    "## JOIN"
   ]
  },
  {
   "cell_type": "markdown",
   "metadata": {},
   "source": [
    "#### Creating second table"
   ]
  },
  {
   "cell_type": "code",
   "execution_count": 31,
   "metadata": {},
   "outputs": [
    {
     "name": "stdout",
     "output_type": "stream",
     "text": [
      " * sqlite:///students.db\n",
      "Done.\n",
      "Done.\n"
     ]
    },
    {
     "data": {
      "text/plain": [
       "[]"
      ]
     },
     "execution_count": 31,
     "metadata": {},
     "output_type": "execute_result"
    }
   ],
   "source": [
    "%%sql\n",
    "\n",
    "DROP TABLE IF EXISTS courses;\n",
    "\n",
    "CREATE TABLE courses (\n",
    "course_id INTEGER PRIMARY KEY,\n",
    "    student_id INTEGER,\n",
    "    course_name TEXT,\n",
    "    FOREIGN KEY (student_id) REFERENCES students(id)\n",
    ")"
   ]
  },
  {
   "cell_type": "code",
   "execution_count": 34,
   "metadata": {},
   "outputs": [
    {
     "name": "stdout",
     "output_type": "stream",
     "text": [
      " * sqlite:///students.db\n",
      "8 rows affected.\n"
     ]
    },
    {
     "data": {
      "text/plain": [
       "[]"
      ]
     },
     "execution_count": 34,
     "metadata": {},
     "output_type": "execute_result"
    }
   ],
   "source": [
    "%%sql\n",
    "\n",
    "INSERT INTO courses (student_id, course_name) VALUES\n",
    "(1, 'Math'),\n",
    "(1, 'Physics'),\n",
    "(2, 'Math'),\n",
    "(4, 'Chemistry'),\n",
    "(5, 'Biology'),\n",
    "(6, 'Math'),\n",
    "(6, 'Biology'),\n",
    "(8, 'Physics')"
   ]
  },
  {
   "cell_type": "code",
   "execution_count": 39,
   "metadata": {},
   "outputs": [
    {
     "name": "stdout",
     "output_type": "stream",
     "text": [
      " * sqlite:///students.db\n",
      "Done.\n"
     ]
    },
    {
     "data": {
      "text/html": [
       "<table>\n",
       "    <tr>\n",
       "        <th>course_id</th>\n",
       "        <th>student_id</th>\n",
       "        <th>course_name</th>\n",
       "    </tr>\n",
       "    <tr>\n",
       "        <td>1</td>\n",
       "        <td>1</td>\n",
       "        <td>Math</td>\n",
       "    </tr>\n",
       "    <tr>\n",
       "        <td>2</td>\n",
       "        <td>1</td>\n",
       "        <td>Physics</td>\n",
       "    </tr>\n",
       "    <tr>\n",
       "        <td>3</td>\n",
       "        <td>2</td>\n",
       "        <td>Math</td>\n",
       "    </tr>\n",
       "    <tr>\n",
       "        <td>4</td>\n",
       "        <td>4</td>\n",
       "        <td>Chemistry</td>\n",
       "    </tr>\n",
       "    <tr>\n",
       "        <td>5</td>\n",
       "        <td>5</td>\n",
       "        <td>Biology</td>\n",
       "    </tr>\n",
       "    <tr>\n",
       "        <td>6</td>\n",
       "        <td>6</td>\n",
       "        <td>Math</td>\n",
       "    </tr>\n",
       "    <tr>\n",
       "        <td>7</td>\n",
       "        <td>6</td>\n",
       "        <td>Biology</td>\n",
       "    </tr>\n",
       "    <tr>\n",
       "        <td>8</td>\n",
       "        <td>8</td>\n",
       "        <td>Physics</td>\n",
       "    </tr>\n",
       "</table>"
      ],
      "text/plain": [
       "[(1, 1, 'Math'),\n",
       " (2, 1, 'Physics'),\n",
       " (3, 2, 'Math'),\n",
       " (4, 4, 'Chemistry'),\n",
       " (5, 5, 'Biology'),\n",
       " (6, 6, 'Math'),\n",
       " (7, 6, 'Biology'),\n",
       " (8, 8, 'Physics')]"
      ]
     },
     "execution_count": 39,
     "metadata": {},
     "output_type": "execute_result"
    }
   ],
   "source": [
    "%%sql\n",
    "\n",
    "SELECT *\n",
    "FROM courses;\n"
   ]
  },
  {
   "cell_type": "code",
   "execution_count": 38,
   "metadata": {},
   "outputs": [
    {
     "name": "stdout",
     "output_type": "stream",
     "text": [
      " * sqlite:///students.db\n",
      "Done.\n"
     ]
    },
    {
     "data": {
      "text/html": [
       "<table>\n",
       "    <tr>\n",
       "        <th>id</th>\n",
       "        <th>name</th>\n",
       "        <th>age</th>\n",
       "        <th>grade</th>\n",
       "    </tr>\n",
       "    <tr>\n",
       "        <td>1</td>\n",
       "        <td>Ali</td>\n",
       "        <td>17</td>\n",
       "        <td>18.5</td>\n",
       "    </tr>\n",
       "    <tr>\n",
       "        <td>2</td>\n",
       "        <td>Sara</td>\n",
       "        <td>18</td>\n",
       "        <td>19.2</td>\n",
       "    </tr>\n",
       "    <tr>\n",
       "        <td>3</td>\n",
       "        <td>Nima</td>\n",
       "        <td>16</td>\n",
       "        <td>17.4</td>\n",
       "    </tr>\n",
       "    <tr>\n",
       "        <td>4</td>\n",
       "        <td>Mahsa</td>\n",
       "        <td>19</td>\n",
       "        <td>13.0</td>\n",
       "    </tr>\n",
       "    <tr>\n",
       "        <td>5</td>\n",
       "        <td>Mohammad</td>\n",
       "        <td>18</td>\n",
       "        <td>15.5</td>\n",
       "    </tr>\n",
       "    <tr>\n",
       "        <td>6</td>\n",
       "        <td>Elham</td>\n",
       "        <td>17</td>\n",
       "        <td>19.7</td>\n",
       "    </tr>\n",
       "    <tr>\n",
       "        <td>7</td>\n",
       "        <td>Behzad</td>\n",
       "        <td>20</td>\n",
       "        <td>14.0</td>\n",
       "    </tr>\n",
       "    <tr>\n",
       "        <td>8</td>\n",
       "        <td>Tara</td>\n",
       "        <td>18</td>\n",
       "        <td>20.0</td>\n",
       "    </tr>\n",
       "</table>"
      ],
      "text/plain": [
       "[(1, 'Ali', 17, 18.5),\n",
       " (2, 'Sara', 18, 19.2),\n",
       " (3, 'Nima', 16, 17.4),\n",
       " (4, 'Mahsa', 19, 13.0),\n",
       " (5, 'Mohammad', 18, 15.5),\n",
       " (6, 'Elham', 17, 19.7),\n",
       " (7, 'Behzad', 20, 14.0),\n",
       " (8, 'Tara', 18, 20.0)]"
      ]
     },
     "execution_count": 38,
     "metadata": {},
     "output_type": "execute_result"
    }
   ],
   "source": [
    "%%sql\n",
    "\n",
    "SELECT *\n",
    "FROM students;"
   ]
  },
  {
   "cell_type": "code",
   "execution_count": 40,
   "metadata": {},
   "outputs": [
    {
     "name": "stdout",
     "output_type": "stream",
     "text": [
      " * sqlite:///students.db\n",
      "Done.\n"
     ]
    },
    {
     "data": {
      "text/html": [
       "<table>\n",
       "    <tr>\n",
       "        <th>name</th>\n",
       "        <th>course_name</th>\n",
       "    </tr>\n",
       "    <tr>\n",
       "        <td>Ali</td>\n",
       "        <td>Math</td>\n",
       "    </tr>\n",
       "    <tr>\n",
       "        <td>Ali</td>\n",
       "        <td>Physics</td>\n",
       "    </tr>\n",
       "    <tr>\n",
       "        <td>Sara</td>\n",
       "        <td>Math</td>\n",
       "    </tr>\n",
       "    <tr>\n",
       "        <td>Mahsa</td>\n",
       "        <td>Chemistry</td>\n",
       "    </tr>\n",
       "    <tr>\n",
       "        <td>Mohammad</td>\n",
       "        <td>Biology</td>\n",
       "    </tr>\n",
       "    <tr>\n",
       "        <td>Elham</td>\n",
       "        <td>Math</td>\n",
       "    </tr>\n",
       "    <tr>\n",
       "        <td>Elham</td>\n",
       "        <td>Biology</td>\n",
       "    </tr>\n",
       "    <tr>\n",
       "        <td>Tara</td>\n",
       "        <td>Physics</td>\n",
       "    </tr>\n",
       "</table>"
      ],
      "text/plain": [
       "[('Ali', 'Math'),\n",
       " ('Ali', 'Physics'),\n",
       " ('Sara', 'Math'),\n",
       " ('Mahsa', 'Chemistry'),\n",
       " ('Mohammad', 'Biology'),\n",
       " ('Elham', 'Math'),\n",
       " ('Elham', 'Biology'),\n",
       " ('Tara', 'Physics')]"
      ]
     },
     "execution_count": 40,
     "metadata": {},
     "output_type": "execute_result"
    }
   ],
   "source": [
    "%%sql\n",
    "\n",
    "SELECT s.name, c.course_name\n",
    "FROM students s\n",
    "INNER JOIN courses c\n",
    "ON s.id = c.student_id"
   ]
  },
  {
   "cell_type": "code",
   "execution_count": 43,
   "metadata": {},
   "outputs": [
    {
     "name": "stdout",
     "output_type": "stream",
     "text": [
      " * sqlite:///students.db\n",
      "Done.\n"
     ]
    },
    {
     "data": {
      "text/html": [
       "<table>\n",
       "    <tr>\n",
       "        <th>id</th>\n",
       "        <th>name</th>\n",
       "        <th>course_name</th>\n",
       "    </tr>\n",
       "    <tr>\n",
       "        <td>1</td>\n",
       "        <td>Ali</td>\n",
       "        <td>Math</td>\n",
       "    </tr>\n",
       "    <tr>\n",
       "        <td>1</td>\n",
       "        <td>Ali</td>\n",
       "        <td>Physics</td>\n",
       "    </tr>\n",
       "    <tr>\n",
       "        <td>7</td>\n",
       "        <td>Behzad</td>\n",
       "        <td>None</td>\n",
       "    </tr>\n",
       "    <tr>\n",
       "        <td>6</td>\n",
       "        <td>Elham</td>\n",
       "        <td>Biology</td>\n",
       "    </tr>\n",
       "    <tr>\n",
       "        <td>6</td>\n",
       "        <td>Elham</td>\n",
       "        <td>Math</td>\n",
       "    </tr>\n",
       "    <tr>\n",
       "        <td>4</td>\n",
       "        <td>Mahsa</td>\n",
       "        <td>Chemistry</td>\n",
       "    </tr>\n",
       "    <tr>\n",
       "        <td>5</td>\n",
       "        <td>Mohammad</td>\n",
       "        <td>Biology</td>\n",
       "    </tr>\n",
       "    <tr>\n",
       "        <td>3</td>\n",
       "        <td>Nima</td>\n",
       "        <td>None</td>\n",
       "    </tr>\n",
       "    <tr>\n",
       "        <td>2</td>\n",
       "        <td>Sara</td>\n",
       "        <td>Math</td>\n",
       "    </tr>\n",
       "    <tr>\n",
       "        <td>8</td>\n",
       "        <td>Tara</td>\n",
       "        <td>Physics</td>\n",
       "    </tr>\n",
       "</table>"
      ],
      "text/plain": [
       "[(1, 'Ali', 'Math'),\n",
       " (1, 'Ali', 'Physics'),\n",
       " (7, 'Behzad', None),\n",
       " (6, 'Elham', 'Biology'),\n",
       " (6, 'Elham', 'Math'),\n",
       " (4, 'Mahsa', 'Chemistry'),\n",
       " (5, 'Mohammad', 'Biology'),\n",
       " (3, 'Nima', None),\n",
       " (2, 'Sara', 'Math'),\n",
       " (8, 'Tara', 'Physics')]"
      ]
     },
     "execution_count": 43,
     "metadata": {},
     "output_type": "execute_result"
    }
   ],
   "source": [
    "%%sql\n",
    "\n",
    "SELECT s.id, s.name, c.course_name\n",
    "FROM students s\n",
    "LEFT JOIN courses c\n",
    "ON s.id = c.student_id\n",
    "ORDER BY s.name"
   ]
  },
  {
   "cell_type": "code",
   "execution_count": 50,
   "metadata": {},
   "outputs": [
    {
     "name": "stdout",
     "output_type": "stream",
     "text": [
      " * sqlite:///students.db\n",
      "Done.\n"
     ]
    },
    {
     "data": {
      "text/html": [
       "<table>\n",
       "    <tr>\n",
       "        <th>id</th>\n",
       "        <th>name</th>\n",
       "    </tr>\n",
       "    <tr>\n",
       "        <td>3</td>\n",
       "        <td>Nima</td>\n",
       "    </tr>\n",
       "    <tr>\n",
       "        <td>7</td>\n",
       "        <td>Behzad</td>\n",
       "    </tr>\n",
       "</table>"
      ],
      "text/plain": [
       "[(3, 'Nima'), (7, 'Behzad')]"
      ]
     },
     "execution_count": 50,
     "metadata": {},
     "output_type": "execute_result"
    }
   ],
   "source": [
    "%%sql\n",
    "\n",
    "SELECT s.id, s.name\n",
    "FROM students s\n",
    "LEFT JOIN courses c\n",
    "ON s.id = c.student_id\n",
    "WHERE c.course_name IS NULL"
   ]
  },
  {
   "cell_type": "code",
   "execution_count": 60,
   "metadata": {},
   "outputs": [
    {
     "name": "stdout",
     "output_type": "stream",
     "text": [
      " * sqlite:///students.db\n",
      "Done.\n"
     ]
    },
    {
     "data": {
      "text/html": [
       "<table>\n",
       "    <tr>\n",
       "        <th>id</th>\n",
       "        <th>name</th>\n",
       "        <th>course_count</th>\n",
       "    </tr>\n",
       "    <tr>\n",
       "        <td>1</td>\n",
       "        <td>Ali</td>\n",
       "        <td>2</td>\n",
       "    </tr>\n",
       "    <tr>\n",
       "        <td>6</td>\n",
       "        <td>Elham</td>\n",
       "        <td>2</td>\n",
       "    </tr>\n",
       "    <tr>\n",
       "        <td>4</td>\n",
       "        <td>Mahsa</td>\n",
       "        <td>1</td>\n",
       "    </tr>\n",
       "    <tr>\n",
       "        <td>5</td>\n",
       "        <td>Mohammad</td>\n",
       "        <td>1</td>\n",
       "    </tr>\n",
       "    <tr>\n",
       "        <td>2</td>\n",
       "        <td>Sara</td>\n",
       "        <td>1</td>\n",
       "    </tr>\n",
       "    <tr>\n",
       "        <td>8</td>\n",
       "        <td>Tara</td>\n",
       "        <td>1</td>\n",
       "    </tr>\n",
       "</table>"
      ],
      "text/plain": [
       "[(1, 'Ali', 2),\n",
       " (6, 'Elham', 2),\n",
       " (4, 'Mahsa', 1),\n",
       " (5, 'Mohammad', 1),\n",
       " (2, 'Sara', 1),\n",
       " (8, 'Tara', 1)]"
      ]
     },
     "execution_count": 60,
     "metadata": {},
     "output_type": "execute_result"
    }
   ],
   "source": [
    "%%sql\n",
    "\n",
    "SELECT s.id, s.name, COUNT(*) as course_count\n",
    "FROM students s\n",
    "JOIN courses c\n",
    "ON s.id = c.student_id\n",
    "GROUP BY s.name"
   ]
  },
  {
   "cell_type": "code",
   "execution_count": 62,
   "metadata": {},
   "outputs": [
    {
     "name": "stdout",
     "output_type": "stream",
     "text": [
      " * sqlite:///students.db\n",
      "Done.\n"
     ]
    },
    {
     "data": {
      "text/html": [
       "<table>\n",
       "    <tr>\n",
       "        <th>course_name</th>\n",
       "        <th>student_count</th>\n",
       "    </tr>\n",
       "    <tr>\n",
       "        <td>Biology</td>\n",
       "        <td>2</td>\n",
       "    </tr>\n",
       "    <tr>\n",
       "        <td>Chemistry</td>\n",
       "        <td>1</td>\n",
       "    </tr>\n",
       "    <tr>\n",
       "        <td>Math</td>\n",
       "        <td>3</td>\n",
       "    </tr>\n",
       "    <tr>\n",
       "        <td>Physics</td>\n",
       "        <td>2</td>\n",
       "    </tr>\n",
       "</table>"
      ],
      "text/plain": [
       "[('Biology', 2), ('Chemistry', 1), ('Math', 3), ('Physics', 2)]"
      ]
     },
     "execution_count": 62,
     "metadata": {},
     "output_type": "execute_result"
    }
   ],
   "source": [
    "%%sql\n",
    "\n",
    "SELECT c.course_name, COUNT(*) as student_count\n",
    "FROM students s\n",
    "JOIN courses c\n",
    "ON s.id = c.student_id\n",
    "GROUP BY c.course_name"
   ]
  },
  {
   "cell_type": "code",
   "execution_count": 64,
   "metadata": {},
   "outputs": [
    {
     "name": "stdout",
     "output_type": "stream",
     "text": [
      " * sqlite:///students.db\n",
      "Done.\n"
     ]
    },
    {
     "data": {
      "text/html": [
       "<table>\n",
       "    <tr>\n",
       "        <th>id</th>\n",
       "        <th>name</th>\n",
       "        <th>course_count</th>\n",
       "    </tr>\n",
       "    <tr>\n",
       "        <td>1</td>\n",
       "        <td>Ali</td>\n",
       "        <td>2</td>\n",
       "    </tr>\n",
       "    <tr>\n",
       "        <td>6</td>\n",
       "        <td>Elham</td>\n",
       "        <td>2</td>\n",
       "    </tr>\n",
       "</table>"
      ],
      "text/plain": [
       "[(1, 'Ali', 2), (6, 'Elham', 2)]"
      ]
     },
     "execution_count": 64,
     "metadata": {},
     "output_type": "execute_result"
    }
   ],
   "source": [
    "%%sql\n",
    "\n",
    "SELECT s.id, s.name, COUNT(*) as course_count\n",
    "FROM students s\n",
    "JOIN courses c\n",
    "ON s.id = c.student_id\n",
    "GROUP BY s.name\n",
    "HAVING course_count>1"
   ]
  },
  {
   "cell_type": "markdown",
   "metadata": {},
   "source": [
    "## SubQueries"
   ]
  },
  {
   "cell_type": "code",
   "execution_count": 122,
   "metadata": {},
   "outputs": [
    {
     "name": "stdout",
     "output_type": "stream",
     "text": [
      " * sqlite:///students.db\n",
      "Done.\n"
     ]
    },
    {
     "data": {
      "text/html": [
       "<table>\n",
       "    <tr>\n",
       "        <th>id</th>\n",
       "        <th>age</th>\n",
       "        <th>average_grade</th>\n",
       "        <th>course_count</th>\n",
       "    </tr>\n",
       "    <tr>\n",
       "        <td>1</td>\n",
       "        <td>17</td>\n",
       "        <td>18.5</td>\n",
       "        <td>2</td>\n",
       "    </tr>\n",
       "    <tr>\n",
       "        <td>6</td>\n",
       "        <td>17</td>\n",
       "        <td>19.7</td>\n",
       "        <td>2</td>\n",
       "    </tr>\n",
       "</table>"
      ],
      "text/plain": [
       "[(1, 17, 18.5, 2), (6, 17, 19.7, 2)]"
      ]
     },
     "execution_count": 122,
     "metadata": {},
     "output_type": "execute_result"
    }
   ],
   "source": [
    "%%sql\n",
    "\n",
    "SELECT s.id, s.age, AVG(s.grade) as average_grade, COUNT(c.course_name) as course_count\n",
    "FROM students s\n",
    "JOIN courses c ON s.id = c.student_id\n",
    "GROUP BY s.id, s.age\n",
    "HAVING course_count > 1"
   ]
  },
  {
   "cell_type": "code",
   "execution_count": 123,
   "metadata": {},
   "outputs": [
    {
     "name": "stdout",
     "output_type": "stream",
     "text": [
      " * sqlite:///students.db\n",
      "Done.\n"
     ]
    },
    {
     "data": {
      "text/html": [
       "<table>\n",
       "    <tr>\n",
       "        <th>age</th>\n",
       "        <th>average_age_grade</th>\n",
       "    </tr>\n",
       "    <tr>\n",
       "        <td>17</td>\n",
       "        <td>19.1</td>\n",
       "    </tr>\n",
       "</table>"
      ],
      "text/plain": [
       "[(17, 19.1)]"
      ]
     },
     "execution_count": 123,
     "metadata": {},
     "output_type": "execute_result"
    }
   ],
   "source": [
    "%%sql\n",
    "\n",
    "SELECT age, AVG(average_student_grade) as average_age_grade\n",
    "FROM(\n",
    "SELECT s.id, s.age, AVG(s.grade) as average_student_grade, COUNT(c.course_name) as course_count\n",
    "FROM students s\n",
    "JOIN courses c ON s.id = c.student_id\n",
    "GROUP BY s.id, s.age\n",
    "HAVING course_count > 1) AS subquery\n",
    "GROUP BY age\n",
    "ORDER BY average_age_grade DESC"
   ]
  },
  {
   "cell_type": "code",
   "execution_count": 84,
   "metadata": {},
   "outputs": [
    {
     "name": "stdout",
     "output_type": "stream",
     "text": [
      " * sqlite:///students.db\n",
      "Done.\n"
     ]
    },
    {
     "data": {
      "text/html": [
       "<table>\n",
       "    <tr>\n",
       "        <th>course_name</th>\n",
       "        <th>student_count</th>\n",
       "    </tr>\n",
       "    <tr>\n",
       "        <td>Chemistry</td>\n",
       "        <td>1</td>\n",
       "    </tr>\n",
       "</table>"
      ],
      "text/plain": [
       "[('Chemistry', 1)]"
      ]
     },
     "execution_count": 84,
     "metadata": {},
     "output_type": "execute_result"
    }
   ],
   "source": [
    "%%sql\n",
    "\n",
    "SELECT c.course_name, COUNT(*) as student_count\n",
    "FROM students s\n",
    "JOIN courses c ON s.id = c.student_id\n",
    "GROUP BY c.course_name\n",
    "HAVING student_count = 1"
   ]
  },
  {
   "cell_type": "code",
   "execution_count": 97,
   "metadata": {},
   "outputs": [
    {
     "name": "stdout",
     "output_type": "stream",
     "text": [
      " * sqlite:///students.db\n",
      "Done.\n"
     ]
    },
    {
     "data": {
      "text/html": [
       "<table>\n",
       "    <tr>\n",
       "        <th>name</th>\n",
       "        <th>course_count</th>\n",
       "        <th>grade</th>\n",
       "    </tr>\n",
       "    <tr>\n",
       "        <td>Ali</td>\n",
       "        <td>2</td>\n",
       "        <td>18.5</td>\n",
       "    </tr>\n",
       "    <tr>\n",
       "        <td>Elham</td>\n",
       "        <td>2</td>\n",
       "        <td>19.7</td>\n",
       "    </tr>\n",
       "</table>"
      ],
      "text/plain": [
       "[('Ali', 2, 18.5), ('Elham', 2, 19.7)]"
      ]
     },
     "execution_count": 97,
     "metadata": {},
     "output_type": "execute_result"
    }
   ],
   "source": [
    "%%sql\n",
    "\n",
    "SELECT name, course_count, grade\n",
    "FROM(\n",
    "    SELECT s.id, s.name, COUNT(*) AS course_count, s.grade\n",
    "    FROM students s\n",
    "    JOIN courses c ON s.id = c.student_id\n",
    "    GROUP BY s.name\n",
    ") AS subquery\n",
    "WHERE course_count>=2 and grade>15"
   ]
  },
  {
   "cell_type": "markdown",
   "metadata": {},
   "source": [
    "## CASE"
   ]
  },
  {
   "cell_type": "code",
   "execution_count": 99,
   "metadata": {},
   "outputs": [
    {
     "name": "stdout",
     "output_type": "stream",
     "text": [
      " * sqlite:///students.db\n",
      "Done.\n"
     ]
    },
    {
     "data": {
      "text/html": [
       "<table>\n",
       "    <tr>\n",
       "        <th>name</th>\n",
       "        <th>age</th>\n",
       "        <th>age_group</th>\n",
       "    </tr>\n",
       "    <tr>\n",
       "        <td>Ali</td>\n",
       "        <td>17</td>\n",
       "        <td>Underage</td>\n",
       "    </tr>\n",
       "    <tr>\n",
       "        <td>Sara</td>\n",
       "        <td>18</td>\n",
       "        <td>Student Age</td>\n",
       "    </tr>\n",
       "    <tr>\n",
       "        <td>Nima</td>\n",
       "        <td>16</td>\n",
       "        <td>Underage</td>\n",
       "    </tr>\n",
       "    <tr>\n",
       "        <td>Mahsa</td>\n",
       "        <td>19</td>\n",
       "        <td>Student Age</td>\n",
       "    </tr>\n",
       "    <tr>\n",
       "        <td>Mohammad</td>\n",
       "        <td>18</td>\n",
       "        <td>Student Age</td>\n",
       "    </tr>\n",
       "    <tr>\n",
       "        <td>Elham</td>\n",
       "        <td>17</td>\n",
       "        <td>Underage</td>\n",
       "    </tr>\n",
       "    <tr>\n",
       "        <td>Behzad</td>\n",
       "        <td>20</td>\n",
       "        <td>Student Age</td>\n",
       "    </tr>\n",
       "    <tr>\n",
       "        <td>Tara</td>\n",
       "        <td>18</td>\n",
       "        <td>Student Age</td>\n",
       "    </tr>\n",
       "</table>"
      ],
      "text/plain": [
       "[('Ali', 17, 'Underage'),\n",
       " ('Sara', 18, 'Student Age'),\n",
       " ('Nima', 16, 'Underage'),\n",
       " ('Mahsa', 19, 'Student Age'),\n",
       " ('Mohammad', 18, 'Student Age'),\n",
       " ('Elham', 17, 'Underage'),\n",
       " ('Behzad', 20, 'Student Age'),\n",
       " ('Tara', 18, 'Student Age')]"
      ]
     },
     "execution_count": 99,
     "metadata": {},
     "output_type": "execute_result"
    }
   ],
   "source": [
    "%%sql\n",
    "SELECT \n",
    "  name,\n",
    "  age,\n",
    "  CASE \n",
    "    WHEN age < 18 THEN 'Underage'\n",
    "    WHEN age BETWEEN 18 AND 22 THEN 'Student Age'\n",
    "    ELSE 'Adult'\n",
    "  END AS age_group\n",
    "FROM students;"
   ]
  },
  {
   "cell_type": "code",
   "execution_count": 100,
   "metadata": {},
   "outputs": [
    {
     "name": "stdout",
     "output_type": "stream",
     "text": [
      " * sqlite:///students.db\n",
      "Done.\n"
     ]
    },
    {
     "data": {
      "text/html": [
       "<table>\n",
       "    <tr>\n",
       "        <th>name</th>\n",
       "        <th>age_group</th>\n",
       "    </tr>\n",
       "    <tr>\n",
       "        <td>Ali</td>\n",
       "        <td>Teen</td>\n",
       "    </tr>\n",
       "    <tr>\n",
       "        <td>Sara</td>\n",
       "        <td>Young Adult</td>\n",
       "    </tr>\n",
       "    <tr>\n",
       "        <td>Nima</td>\n",
       "        <td>Teen</td>\n",
       "    </tr>\n",
       "    <tr>\n",
       "        <td>Mahsa</td>\n",
       "        <td>Young Adult</td>\n",
       "    </tr>\n",
       "    <tr>\n",
       "        <td>Mohammad</td>\n",
       "        <td>Young Adult</td>\n",
       "    </tr>\n",
       "    <tr>\n",
       "        <td>Elham</td>\n",
       "        <td>Teen</td>\n",
       "    </tr>\n",
       "    <tr>\n",
       "        <td>Behzad</td>\n",
       "        <td>Young Adult</td>\n",
       "    </tr>\n",
       "    <tr>\n",
       "        <td>Tara</td>\n",
       "        <td>Young Adult</td>\n",
       "    </tr>\n",
       "</table>"
      ],
      "text/plain": [
       "[('Ali', 'Teen'),\n",
       " ('Sara', 'Young Adult'),\n",
       " ('Nima', 'Teen'),\n",
       " ('Mahsa', 'Young Adult'),\n",
       " ('Mohammad', 'Young Adult'),\n",
       " ('Elham', 'Teen'),\n",
       " ('Behzad', 'Young Adult'),\n",
       " ('Tara', 'Young Adult')]"
      ]
     },
     "execution_count": 100,
     "metadata": {},
     "output_type": "execute_result"
    }
   ],
   "source": [
    "%%sql\n",
    "\n",
    "SELECT\n",
    "name,\n",
    "CASE\n",
    "    WHEN age<18 THEN 'Teen'\n",
    "    WHEN age BETWEEN 18 AND 20 THEN 'Young Adult'\n",
    "    ELSE 'Adult'\n",
    "END AS age_group\n",
    "FROM students"
   ]
  },
  {
   "cell_type": "code",
   "execution_count": 102,
   "metadata": {},
   "outputs": [
    {
     "name": "stdout",
     "output_type": "stream",
     "text": [
      " * sqlite:///students.db\n",
      "Done.\n"
     ]
    },
    {
     "data": {
      "text/html": [
       "<table>\n",
       "    <tr>\n",
       "        <th>name</th>\n",
       "        <th>status</th>\n",
       "    </tr>\n",
       "    <tr>\n",
       "        <td>Ali</td>\n",
       "        <td>Excellent</td>\n",
       "    </tr>\n",
       "    <tr>\n",
       "        <td>Sara</td>\n",
       "        <td>Excellent</td>\n",
       "    </tr>\n",
       "    <tr>\n",
       "        <td>Nima</td>\n",
       "        <td>Good</td>\n",
       "    </tr>\n",
       "    <tr>\n",
       "        <td>Mahsa</td>\n",
       "        <td>Needs Improvement</td>\n",
       "    </tr>\n",
       "    <tr>\n",
       "        <td>Mohammad</td>\n",
       "        <td>Good</td>\n",
       "    </tr>\n",
       "    <tr>\n",
       "        <td>Elham</td>\n",
       "        <td>Excellent</td>\n",
       "    </tr>\n",
       "    <tr>\n",
       "        <td>Behzad</td>\n",
       "        <td>Needs Improvement</td>\n",
       "    </tr>\n",
       "    <tr>\n",
       "        <td>Tara</td>\n",
       "        <td>Excellent</td>\n",
       "    </tr>\n",
       "</table>"
      ],
      "text/plain": [
       "[('Ali', 'Excellent'),\n",
       " ('Sara', 'Excellent'),\n",
       " ('Nima', 'Good'),\n",
       " ('Mahsa', 'Needs Improvement'),\n",
       " ('Mohammad', 'Good'),\n",
       " ('Elham', 'Excellent'),\n",
       " ('Behzad', 'Needs Improvement'),\n",
       " ('Tara', 'Excellent')]"
      ]
     },
     "execution_count": 102,
     "metadata": {},
     "output_type": "execute_result"
    }
   ],
   "source": [
    "%%sql\n",
    "SELECT\n",
    "name,\n",
    "CASE\n",
    "    WHEN grade>18 THEN 'Excellent'\n",
    "    WHEN grade BETWEEN 15 AND 18 THEN 'Good'\n",
    "    ELSE 'Needs Improvement'\n",
    "END AS status\n",
    "From students"
   ]
  },
  {
   "cell_type": "markdown",
   "metadata": {},
   "source": [
    "## WITH    AS"
   ]
  },
  {
   "cell_type": "code",
   "execution_count": 109,
   "metadata": {},
   "outputs": [
    {
     "name": "stdout",
     "output_type": "stream",
     "text": [
      " * sqlite:///students.db\n",
      "Done.\n"
     ]
    },
    {
     "data": {
      "text/html": [
       "<table>\n",
       "    <tr>\n",
       "        <th>id</th>\n",
       "        <th>name</th>\n",
       "        <th>course_count</th>\n",
       "    </tr>\n",
       "    <tr>\n",
       "        <td>1</td>\n",
       "        <td>Ali</td>\n",
       "        <td>2</td>\n",
       "    </tr>\n",
       "    <tr>\n",
       "        <td>6</td>\n",
       "        <td>Elham</td>\n",
       "        <td>2</td>\n",
       "    </tr>\n",
       "</table>"
      ],
      "text/plain": [
       "[(1, 'Ali', 2), (6, 'Elham', 2)]"
      ]
     },
     "execution_count": 109,
     "metadata": {},
     "output_type": "execute_result"
    }
   ],
   "source": [
    "%%sql\n",
    "\n",
    "WITH course_counts AS(\n",
    "    SELECT s.id, s.name, COUNT(*) AS course_count\n",
    "    FROM students s\n",
    "    JOIN courses c ON s.id = c.student_id\n",
    "    GROUP BY s.id, s.name\n",
    ")\n",
    "SELECT *\n",
    "FROM course_counts\n",
    "WHERE course_count > 1;"
   ]
  },
  {
   "cell_type": "code",
   "execution_count": 113,
   "metadata": {},
   "outputs": [
    {
     "name": "stdout",
     "output_type": "stream",
     "text": [
      " * sqlite:///students.db\n",
      "Done.\n"
     ]
    },
    {
     "data": {
      "text/html": [
       "<table>\n",
       "    <tr>\n",
       "        <th>name</th>\n",
       "        <th>course_count</th>\n",
       "    </tr>\n",
       "    <tr>\n",
       "        <td>Ali</td>\n",
       "        <td>2</td>\n",
       "    </tr>\n",
       "    <tr>\n",
       "        <td>Elham</td>\n",
       "        <td>2</td>\n",
       "    </tr>\n",
       "</table>"
      ],
      "text/plain": [
       "[('Ali', 2), ('Elham', 2)]"
      ]
     },
     "execution_count": 113,
     "metadata": {},
     "output_type": "execute_result"
    }
   ],
   "source": [
    "%%sql\n",
    "WITH course_counts AS (\n",
    "    SELECT s.id, s.name, COUNT(*) AS course_count\n",
    "    FROM students s\n",
    "    JOIN courses c ON s.id = c.student_id\n",
    "    GROUP BY s.id, s.name\n",
    ")\n",
    "SELECT name, course_count\n",
    "FROM course_counts\n",
    "WHERE course_count >=2"
   ]
  },
  {
   "cell_type": "markdown",
   "metadata": {},
   "source": [
    "#### Creating Third Table"
   ]
  },
  {
   "cell_type": "code",
   "execution_count": 114,
   "metadata": {},
   "outputs": [
    {
     "name": "stdout",
     "output_type": "stream",
     "text": [
      " * sqlite:///students.db\n",
      "Done.\n",
      "Done.\n",
      "8 rows affected.\n"
     ]
    },
    {
     "data": {
      "text/plain": [
       "[]"
      ]
     },
     "execution_count": 114,
     "metadata": {},
     "output_type": "execute_result"
    }
   ],
   "source": [
    "%%sql\n",
    "\n",
    "DROP TABLE IF EXISTS enrollments;\n",
    "\n",
    "CREATE TABLE enrollments (\n",
    "    student_id INTEGER,\n",
    "    course_id INTEGER,\n",
    "    grade REAL,\n",
    "    FOREIGN KEY (student_id) REFERENCES students(id),\n",
    "    FOREIGN KEY (course_id) REFERENCES courses(id)\n",
    ");\n",
    "\n",
    "INSERT INTO enrollments (student_id, course_id, grade) VALUES\n",
    "(1, 1, 18.5), -- Ali - mathematics\n",
    "(1, 2, 17.0), -- Ali - biology\n",
    "(6, 1, 19.0), -- Elham - mathematics\n",
    "(6, 2, 18.0), -- Elham - biology\n",
    "(4, 3, 13.0), -- Mahsa - geography\n",
    "(5, 2, 15.5), -- Mohammad - biology\n",
    "(2, 1, 19.2), -- Sara - mathematics\n",
    "(8, 2, 20.0); -- Tara - biology"
   ]
  },
  {
   "cell_type": "code",
   "execution_count": 115,
   "metadata": {},
   "outputs": [
    {
     "name": "stdout",
     "output_type": "stream",
     "text": [
      " * sqlite:///students.db\n",
      "Done.\n"
     ]
    },
    {
     "data": {
      "text/html": [
       "<table>\n",
       "    <tr>\n",
       "        <th>student_id</th>\n",
       "        <th>course_id</th>\n",
       "        <th>grade</th>\n",
       "    </tr>\n",
       "    <tr>\n",
       "        <td>1</td>\n",
       "        <td>1</td>\n",
       "        <td>18.5</td>\n",
       "    </tr>\n",
       "    <tr>\n",
       "        <td>1</td>\n",
       "        <td>2</td>\n",
       "        <td>17.0</td>\n",
       "    </tr>\n",
       "    <tr>\n",
       "        <td>6</td>\n",
       "        <td>1</td>\n",
       "        <td>19.0</td>\n",
       "    </tr>\n",
       "    <tr>\n",
       "        <td>6</td>\n",
       "        <td>2</td>\n",
       "        <td>18.0</td>\n",
       "    </tr>\n",
       "    <tr>\n",
       "        <td>4</td>\n",
       "        <td>3</td>\n",
       "        <td>13.0</td>\n",
       "    </tr>\n",
       "    <tr>\n",
       "        <td>5</td>\n",
       "        <td>2</td>\n",
       "        <td>15.5</td>\n",
       "    </tr>\n",
       "    <tr>\n",
       "        <td>2</td>\n",
       "        <td>1</td>\n",
       "        <td>19.2</td>\n",
       "    </tr>\n",
       "    <tr>\n",
       "        <td>8</td>\n",
       "        <td>2</td>\n",
       "        <td>20.0</td>\n",
       "    </tr>\n",
       "</table>"
      ],
      "text/plain": [
       "[(1, 1, 18.5),\n",
       " (1, 2, 17.0),\n",
       " (6, 1, 19.0),\n",
       " (6, 2, 18.0),\n",
       " (4, 3, 13.0),\n",
       " (5, 2, 15.5),\n",
       " (2, 1, 19.2),\n",
       " (8, 2, 20.0)]"
      ]
     },
     "execution_count": 115,
     "metadata": {},
     "output_type": "execute_result"
    }
   ],
   "source": [
    "%%sql\n",
    "\n",
    "SELECT *\n",
    "FROM enrollments"
   ]
  },
  {
   "cell_type": "code",
   "execution_count": 118,
   "metadata": {},
   "outputs": [
    {
     "name": "stdout",
     "output_type": "stream",
     "text": [
      " * sqlite:///students.db\n",
      "Done.\n"
     ]
    },
    {
     "data": {
      "text/html": [
       "<table>\n",
       "    <tr>\n",
       "        <th>name</th>\n",
       "        <th>avg_gr</th>\n",
       "    </tr>\n",
       "    <tr>\n",
       "        <td>Ali</td>\n",
       "        <td>17.75</td>\n",
       "    </tr>\n",
       "    <tr>\n",
       "        <td>Sara</td>\n",
       "        <td>19.2</td>\n",
       "    </tr>\n",
       "    <tr>\n",
       "        <td>Elham</td>\n",
       "        <td>18.5</td>\n",
       "    </tr>\n",
       "    <tr>\n",
       "        <td>Tara</td>\n",
       "        <td>20.0</td>\n",
       "    </tr>\n",
       "</table>"
      ],
      "text/plain": [
       "[('Ali', 17.75), ('Sara', 19.2), ('Elham', 18.5), ('Tara', 20.0)]"
      ]
     },
     "execution_count": 118,
     "metadata": {},
     "output_type": "execute_result"
    }
   ],
   "source": [
    "%%sql\n",
    "\n",
    "WITH avg_grade AS(\n",
    "SELECT s.name, AVG(e.grade) as avg_gr\n",
    "FROM students s\n",
    "JOIN enrollments e ON s.id = e.student_id\n",
    "GROUP BY s.id, s.name\n",
    ") \n",
    "SELECT name, avg_gr\n",
    "FROM avg_grade\n",
    "WHERE avg_gr>17"
   ]
  },
  {
   "cell_type": "markdown",
   "metadata": {},
   "source": [
    "## 🟢 Conclusion\n",
    "\n",
    "This notebook covered fundamental SQL operations including data definition (DDL), data manipulation (DML), querying, filtering, sorting, grouping, aggregation, joins, and subqueries using a sample SQLite database.  \n",
    "Each section was designed to provide hands-on practice and reinforce essential SQL concepts.  \n",
    "This practice has helped solidify my understanding of SQL syntax and logic, preparing me for real-world data analysis tasks and future projects involving more complex databases and queries.\n",
    "\n",
    "---\n",
    "\n",
    "## 📚 References\n",
    "\n",
    "- [SQLite Documentation](https://www.sqlite.org/docs.html) – Official documentation for SQLite syntax and features  \n",
    "- [W3Schools SQL Tutorial](https://www.w3schools.com/sql/) – Basic SQL tutorials and examples  \n",
    "- [Mode Analytics SQL Tutorial](https://mode.com/sql-tutorial/) – Practical SQL for data analysts  \n",
    "- Personal notes and exercises from hands-on practice sessions\n"
   ]
  },
  {
   "cell_type": "code",
   "execution_count": null,
   "metadata": {},
   "outputs": [],
   "source": []
  }
 ],
 "metadata": {
  "kernelspec": {
   "display_name": "Python 3",
   "language": "python",
   "name": "python3"
  },
  "language_info": {
   "codemirror_mode": {
    "name": "ipython",
    "version": 3
   },
   "file_extension": ".py",
   "mimetype": "text/x-python",
   "name": "python",
   "nbconvert_exporter": "python",
   "pygments_lexer": "ipython3",
   "version": "3.6.7"
  }
 },
 "nbformat": 4,
 "nbformat_minor": 4
}
